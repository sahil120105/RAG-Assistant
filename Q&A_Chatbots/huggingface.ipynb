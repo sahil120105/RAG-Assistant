{
 "cells": [
  {
   "cell_type": "code",
   "execution_count": 3,
   "id": "f13a4f35",
   "metadata": {},
   "outputs": [],
   "source": [
    "from langchain.text_splitter import RecursiveCharacterTextSplitter\n",
    "from langchain_community.document_loaders import PyPDFLoader, PyPDFDirectoryLoader\n",
    "from langchain_community.vectorstores import FAISS\n",
    "from langchain_community.embeddings import HuggingFaceBgeEmbeddings\n",
    "from langchain.prompts import PromptTemplate\n",
    "from langchain.chains import RetrievalQA"
   ]
  },
  {
   "cell_type": "code",
   "execution_count": 4,
   "id": "26e5a5ac",
   "metadata": {},
   "outputs": [],
   "source": [
    "import os\n",
    "from dotenv import load_dotenv\n",
    "\n",
    "load_dotenv()\n",
    "os.environ[\"HUGGINGFACEHUB_API_TOKEN\"]= os.getenv(\"HUGGINGFACE_API_TOKEN\")"
   ]
  },
  {
   "cell_type": "code",
   "execution_count": 5,
   "id": "e0ee6d05",
   "metadata": {},
   "outputs": [
    {
     "data": {
      "text/plain": [
       "Document(metadata={'producer': 'Adobe PDF Library 17.0', 'creator': 'Adobe InDesign 18.2 (Windows)', 'creationdate': '2023-09-09T07:52:17-04:00', 'author': 'U.S. Census Bureau', 'keywords': 'acsbr-015', 'moddate': '2023-09-12T14:44:47+01:00', 'title': 'Health Insurance Coverage Status and Type by Geography: 2021 and 2022', 'trapped': '/false', 'source': 'us_census\\\\acsbr-015.pdf', 'total_pages': 18, 'page': 0, 'page_label': '1'}, page_content='Health Insurance Coverage Status and Type \\nby Geography: 2021 and 2022\\nAmerican Community Survey Briefs\\nACSBR-015\\nIssued September 2023\\nDouglas Conway and Breauna Branch\\nINTRODUCTION\\nDemographic shifts as well as economic and govern-\\nment policy changes can affect people’s access to \\nhealth coverage. For example, between 2021 and 2022, \\nthe labor market continued to improve, which may \\nhave affected private coverage in the United States \\nduring that time.1 Public policy changes included \\nthe renewal of the Public Health Emergency, which \\nallowed Medicaid enrollees to remain covered under \\nthe Continuous Enrollment Provision.2 The American \\nRescue Plan (ARP) enhanced Marketplace premium \\nsubsidies for those with incomes above 400 percent \\nof the poverty level as well as for unemployed people.3\\nIn addition to national policies, individual states and \\nthe District of Columbia can affect health insurance \\ncoverage by making Marketplace or Medicaid more')"
      ]
     },
     "execution_count": 5,
     "metadata": {},
     "output_type": "execute_result"
    }
   ],
   "source": [
    "# Read pdf from folders\n",
    "\n",
    "loader = PyPDFDirectoryLoader(\"./us_census\")\n",
    "documents = loader.load()\n",
    "\n",
    "text_splitter = RecursiveCharacterTextSplitter(chunk_size=1000, chunk_overlap=200)\n",
    "\n",
    "final_documents = text_splitter.split_documents(documents)\n",
    "final_documents[0]"
   ]
  },
  {
   "cell_type": "code",
   "execution_count": 6,
   "id": "77efec86",
   "metadata": {},
   "outputs": [
    {
     "name": "stderr",
     "output_type": "stream",
     "text": [
      "C:\\Users\\sahil\\AppData\\Local\\Temp\\ipykernel_29288\\1177215172.py:2: LangChainDeprecationWarning: The class `HuggingFaceBgeEmbeddings` was deprecated in LangChain 0.2.2 and will be removed in 1.0. An updated version of the class exists in the :class:`~langchain-huggingface package and should be used instead. To use it run `pip install -U :class:`~langchain-huggingface` and import as `from :class:`~langchain_huggingface import HuggingFaceEmbeddings``.\n",
      "  huggingface_embeddings = HuggingFaceBgeEmbeddings(\n",
      "c:\\Users\\sahil\\OneDrive\\Desktop\\Projects\\AI Projects\\Langchain Project\\myenv\\Lib\\site-packages\\tqdm\\auto.py:21: TqdmWarning: IProgress not found. Please update jupyter and ipywidgets. See https://ipywidgets.readthedocs.io/en/stable/user_install.html\n",
      "  from .autonotebook import tqdm as notebook_tqdm\n"
     ]
    }
   ],
   "source": [
    "# Embeddings using Huggingface\n",
    "huggingface_embeddings = HuggingFaceBgeEmbeddings(\n",
    "    model_name= \"BAAI/bge-small-en-v1.5\",\n",
    "    model_kwargs = {'device':'cpu'},\n",
    "    encode_kwargs = {'normalize_embeddings': True}\n",
    ")"
   ]
  },
  {
   "cell_type": "code",
   "execution_count": 7,
   "id": "6d722a2f",
   "metadata": {},
   "outputs": [
    {
     "name": "stdout",
     "output_type": "stream",
     "text": [
      "[-0.07903482 -0.01134113 -0.02312095  0.02844462  0.05053345  0.05317827\n",
      " -0.01907792  0.03456027 -0.10211367 -0.02915701  0.08524261  0.05650727\n",
      " -0.02545437 -0.0330849  -0.00635737  0.04090865 -0.00628106  0.00356743\n",
      " -0.03854126  0.03667682 -0.04289803  0.03425248 -0.03116897 -0.03793732\n",
      "  0.01728392  0.01214926  0.0065312   0.01463566 -0.05529055 -0.15320709\n",
      "  0.00730848  0.03202945 -0.04701129 -0.01595975  0.01874448  0.02642939\n",
      " -0.02306378  0.0843804   0.04182491  0.05278175 -0.03057606  0.01564261\n",
      " -0.01689075  0.00529407 -0.02417431  0.00412995 -0.01889938 -0.00150626\n",
      " -0.00836939 -0.03390063  0.03515958 -0.00553127  0.04910937  0.05971859\n",
      "  0.0561596  -0.05105156  0.01475134 -0.0184996  -0.03284643  0.03576627\n",
      "  0.04947709 -0.00938881 -0.26202112  0.09750332  0.01715691  0.04781387\n",
      " -0.00556316 -0.00298307 -0.02207358 -0.04463668 -0.05760488  0.04815875\n",
      " -0.0552221   0.01635336  0.03299245  0.0214708   0.01296216  0.01462311\n",
      "  0.02174953 -0.00202996  0.02099537  0.03353844 -0.00345109 -0.04823532\n",
      "  0.05149957 -0.0894811   0.04491431 -0.03423372  0.0249574  -0.0333233\n",
      " -0.04124897  0.01226973  0.00551147  0.02813652  0.00750807  0.03364132\n",
      " -0.00718596 -0.00677304 -0.02375996  0.34350559 -0.02040542  0.00967846\n",
      " -0.00936507  0.01524745 -0.00692601 -0.05803745 -0.00443031  0.01115698\n",
      "  0.01746199  0.01258485  0.02158612 -0.02646193  0.01026771  0.04782213\n",
      " -0.03718102 -0.01986201  0.04008091  0.01574837  0.09363521 -0.02635872\n",
      " -0.01393853  0.03410933 -0.01630285 -0.0470879   0.02137169  0.06708886\n",
      "  0.05438904  0.1505418   0.03444393 -0.04218605  0.10422413 -0.04002277\n",
      " -0.00191298  0.00459113 -0.00292591  0.00371354 -0.02687682  0.03972115\n",
      " -0.00739634  0.05129854  0.00698697 -0.00043552 -0.00752807 -0.13413782\n",
      " -0.03140992  0.17964652 -0.02152572  0.0453423   0.02027221 -0.01826408\n",
      " -0.04439811  0.04787032 -0.03801552  0.04057756 -0.03817712  0.01659362\n",
      " -0.00368184  0.02469147 -0.02634716 -0.06727427  0.05705417 -0.03698838\n",
      " -0.05754098  0.01774044  0.04163105 -0.02699811 -0.01342316 -0.06434499\n",
      "  0.02320634  0.00476098  0.01345848  0.05142654  0.01828842 -0.02267209\n",
      "  0.08680934  0.0228899  -0.0227856  -0.00261808 -0.00936064 -0.05964357\n",
      "  0.00370067 -0.02772143 -0.05116595 -0.04951675 -0.01691762 -0.04342573\n",
      " -0.06551471  0.05782724  0.04989286 -0.01559616 -0.00385898  0.0082775\n",
      " -0.06377073  0.01969866 -0.01933412 -0.01095791 -0.05990798 -0.02187354\n",
      "  0.03869358 -0.02963529 -0.03095982  0.02629449  0.00857687 -0.00225384\n",
      " -0.00917326  0.02006875  0.02308836 -0.06949826  0.03825645 -0.01321393\n",
      "  0.00288255  0.04065887  0.03197154  0.00364807  0.03610996  0.01653037\n",
      "  0.0128288  -0.02190454  0.02050886  0.03220993  0.03351385  0.0681905\n",
      "  0.09490157 -0.27463821 -0.0049903   0.00181544  0.00687724 -0.06947189\n",
      " -0.0526664  -0.045476    0.02707845  0.00403483  0.08909721  0.06208607\n",
      " -0.00817409 -0.02176251  0.10530712  0.02105071 -0.08313887  0.02648289\n",
      " -0.02122217 -0.01542385 -0.00282385  0.00493169  0.00487722 -0.06012275\n",
      " -0.02174248  0.08150733 -0.01746729  0.0621053  -0.05241902 -0.07425196\n",
      "  0.00045818 -0.05536219  0.05762161 -0.00776096 -0.11965961  0.06155296\n",
      "  0.01773319 -0.07490137  0.00434346 -0.0637446  -0.03096173 -0.02682649\n",
      "  0.05158744 -0.06356604  0.02998997 -0.01865463 -0.05194328  0.0463651\n",
      "  0.07127585 -0.08020446  0.0102525   0.0064939  -0.03402687 -0.03371224\n",
      " -0.0147609   0.02565075 -0.06251818 -0.03164582  0.03269225 -0.01906623\n",
      " -0.00269565  0.02393796  0.00502714  0.04807226 -0.00441301 -0.00810785\n",
      " -0.04506411  0.01010007 -0.03085288 -0.07091323  0.00998587  0.0027608\n",
      "  0.0471048  -0.02302792 -0.02459351  0.01797342 -0.02112837  0.0466088\n",
      " -0.00104206 -0.00374577 -0.04950178  0.04251798 -0.05733852  0.0205524\n",
      "  0.04219677 -0.01167059  0.01241851  0.01056794  0.00663803 -0.01598003\n",
      "  0.016328   -0.02056746 -0.01553832 -0.01156683 -0.01864406  0.00332142\n",
      "  0.00658675 -0.21910885  0.04714745  0.02075716 -0.02441516 -0.00868849\n",
      " -0.01634119 -0.02499121  0.00766708 -0.01083086 -0.0247253   0.05254846\n",
      "  0.08288422  0.1184813  -0.01936328 -0.00433765  0.00458099  0.06947742\n",
      "  0.00124529  0.023687   -0.03457183  0.06163957 -0.06045356  0.14640088\n",
      " -0.03099667  0.01726847 -0.06827349 -0.01641337  0.03765269 -0.03385306\n",
      "  0.0172165   0.02592444 -0.00034787  0.02241216 -0.01919535  0.05005868\n",
      "  0.00834137  0.00977348  0.05592791  0.00274985  0.02592714 -0.04995016\n",
      " -0.02017873  0.02317921  0.01068104  0.064628   -0.02950337 -0.04529898\n",
      " -0.06358046 -0.01058146  0.06793746  0.00993986 -0.02914159  0.00441979\n",
      "  0.01224194 -0.0569934  -0.01181837 -0.06126494  0.03326267  0.00284464\n",
      " -0.01248826  0.02214625  0.04263509 -0.07597519  0.01234047  0.06002008]\n",
      "(384,)\n"
     ]
    }
   ],
   "source": [
    "import  numpy as np\n",
    "print(np.array(huggingface_embeddings.embed_query(final_documents[0].page_content)))\n",
    "print(np.array(huggingface_embeddings.embed_query(final_documents[0].page_content)).shape)"
   ]
  },
  {
   "cell_type": "code",
   "execution_count": 8,
   "id": "b8c9634c",
   "metadata": {},
   "outputs": [],
   "source": [
    "# Vectorstore creation \n",
    "# Generates and store embeddings for document text using the provided model\n",
    "vectorstore = FAISS.from_documents(final_documents[:120], huggingface_embeddings)"
   ]
  },
  {
   "cell_type": "code",
   "execution_count": 9,
   "id": "9c26333b",
   "metadata": {},
   "outputs": [
    {
     "name": "stdout",
     "output_type": "stream",
     "text": [
      "2 U.S. Census Bureau\n",
      "WHAT IS HEALTH INSURANCE COVERAGE?\n",
      "This brief presents state-level estimates of health insurance coverage \n",
      "using data from the American Community Survey (ACS). The  \n",
      "U.S. Census Bureau conducts the ACS throughout the year; the \n",
      "survey asks respondents to report their coverage at the time of \n",
      "interview. The resulting measure of health insurance coverage, \n",
      "therefore, reflects an annual average of current comprehensive \n",
      "health insurance coverage status.* This uninsured rate measures a \n",
      "different concept than the measure based on the Current Population \n",
      "Survey Annual Social and Economic Supplement (CPS ASEC). \n",
      "For reporting purposes, the ACS broadly classifies health insurance \n",
      "coverage as private insurance or public insurance. The ACS defines \n",
      "private health insurance as a plan provided through an employer \n",
      "or a union, coverage purchased directly by an individual from an \n",
      "insurance company or through an exchange (such as healthcare.\n"
     ]
    }
   ],
   "source": [
    "# Query using similarity search\n",
    "query = \"What is health insurance coverage?\"\n",
    "relevant_docs = vectorstore.similarity_search(query)\n",
    "\n",
    "print(relevant_docs[0].page_content)"
   ]
  },
  {
   "cell_type": "code",
   "execution_count": 10,
   "id": "ec72edd2",
   "metadata": {},
   "outputs": [
    {
     "data": {
      "text/plain": [
       "VectorStoreRetriever(tags=['FAISS', 'HuggingFaceBgeEmbeddings'], vectorstore=<langchain_community.vectorstores.faiss.FAISS object at 0x000001E098D48C20>, search_kwargs={'k': 3})"
      ]
     },
     "execution_count": 10,
     "metadata": {},
     "output_type": "execute_result"
    }
   ],
   "source": [
    "# Create retriever object \n",
    "retriever=vectorstore.as_retriever(search_type=\"similarity\",search_kwargs={\"k\":3})  # {\"k\":3} =  search for top 3 similar documents\n",
    "retriever "
   ]
  },
  {
   "cell_type": "code",
   "execution_count": null,
   "id": "9f2e2ed2",
   "metadata": {},
   "outputs": [
    {
     "data": {
      "text/plain": [
       "Ollama(model='llama3.2:1b')"
      ]
     },
     "execution_count": 12,
     "metadata": {},
     "output_type": "execute_result"
    }
   ],
   "source": [
    "# Initialize LLM\n",
    "from langchain_community.llms import Ollama\n",
    "llm = Ollama(model=\"llama3.2:1b\")\n",
    "llm"
   ]
  },
  {
   "cell_type": "code",
   "execution_count": null,
   "id": "25f2fd8e",
   "metadata": {},
   "outputs": [],
   "source": [
    "#Create Prompt\n",
    "prompt_template=\"\"\"\n",
    "Use the following piece of context to answer the question asked.\n",
    "Please try to provide the answer only based on the context\n",
    "\n",
    "{context}\n",
    "Question:{question}\n",
    "\n",
    "Helpful Answers:\n",
    " \"\"\"\n",
    "\n",
    "prompt=PromptTemplate(template=prompt_template,input_variables=[\"context\",\"question\"])"
   ]
  },
  {
   "cell_type": "code",
   "execution_count": null,
   "id": "09568068",
   "metadata": {},
   "outputs": [],
   "source": [
    "retrievalQA=RetrievalQA.from_chain_type(\n",
    "    llm=llm,\n",
    "    chain_type=\"stuff\",    # All retrieved documents are concatenated and inserted into the prompt.\n",
    "    retriever=retriever,\n",
    "    return_source_documents=True,\n",
    "    chain_type_kwargs={\"prompt\":prompt}\n",
    ")"
   ]
  },
  {
   "cell_type": "code",
   "execution_count": 15,
   "id": "9f34a2a9",
   "metadata": {},
   "outputs": [],
   "source": [
    "query=\"\"\"DIFFERENCES IN THE\n",
    "UNINSURED RATE BY STATE\n",
    "IN 2022\"\"\""
   ]
  },
  {
   "cell_type": "code",
   "execution_count": 16,
   "id": "89e8b849",
   "metadata": {},
   "outputs": [
    {
     "name": "stdout",
     "output_type": "stream",
     "text": [
      "The differences in the uninsured rate by state in 2022 are as follows:\n",
      "\n",
      "- Massachusetts had an increase of 6.1% from 8.0% to 14.1%\n",
      "- Texas had a decrease of 4.3% from 12.7% to 9.4%\n",
      "- Maine had an increase of 1.1% from 5.7% to 6.8%\n",
      "\n",
      "Additionally, Medicaid coverage accounted for a portion of the difference in uninsured rates between states that expanded and those that did not, with percentages as follows:\n",
      "\n",
      "- Massachusetts: 22.7%\n",
      "- District of Columbia/Massachusetts: 10.0%\n",
      "- Non-expansion states: 18.0%\n"
     ]
    }
   ],
   "source": [
    "# Call the QA chain with our query.\n",
    "result = retrievalQA.invoke({\"query\": query})\n",
    "print(result['result'])"
   ]
  }
 ],
 "metadata": {
  "kernelspec": {
   "display_name": "myenv",
   "language": "python",
   "name": "python3"
  },
  "language_info": {
   "codemirror_mode": {
    "name": "ipython",
    "version": 3
   },
   "file_extension": ".py",
   "mimetype": "text/x-python",
   "name": "python",
   "nbconvert_exporter": "python",
   "pygments_lexer": "ipython3",
   "version": "3.13.3"
  }
 },
 "nbformat": 4,
 "nbformat_minor": 5
}
